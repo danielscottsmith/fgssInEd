{
 "cells": [
  {
   "cell_type": "markdown",
   "id": "20ae376b-3603-408e-a6ba-9f7991ba8376",
   "metadata": {},
   "source": [
    "# Goals\n",
    "To visualize the the analyses of article data"
   ]
  },
  {
   "cell_type": "markdown",
   "id": "43e96f81-a7b0-4632-a385-e20193082179",
   "metadata": {},
   "source": [
    "# Libraries"
   ]
  },
  {
   "cell_type": "code",
   "execution_count": 152,
   "id": "09fd2b6f-35b9-4b97-9c4e-2dfde54ce09a",
   "metadata": {},
   "outputs": [],
   "source": [
    "from linearmodels.panel import PanelOLS, RandomEffects\n",
    "from linearmodels.panel import compare as compare_models\n",
    "import statsmodels.api as sm\n",
    "import pandas as pd\n",
    "import numpy as np\n",
    "import os\n",
    "import math\n",
    "import csv\n",
    "from io import StringIO\n",
    "import pingouin as pg\n",
    "import glob\n",
    "from scipy.stats.mstats import zscore\n",
    "from factor_analyzer import FactorAnalyzer"
   ]
  },
  {
   "cell_type": "code",
   "execution_count": 2,
   "id": "8b848969-901e-4d50-a611-6115268eb60d",
   "metadata": {},
   "outputs": [],
   "source": [
    "ROOT = os.path.dirname(os.getcwd()) + \"/\""
   ]
  },
  {
   "cell_type": "code",
   "execution_count": 3,
   "id": "ba7b175b-6cfb-4c75-a2e5-d9766a173f84",
   "metadata": {},
   "outputs": [],
   "source": [
    "pd.set_option(\"mode.chained_assignment\", None) "
   ]
  },
  {
   "cell_type": "markdown",
   "id": "2af53936-f425-436e-907a-73a1f790be65",
   "metadata": {},
   "source": [
    "# Read in Data"
   ]
  },
  {
   "cell_type": "markdown",
   "id": "9bab28aa-1560-4cc4-8181-9b1a9ed3f29d",
   "metadata": {},
   "source": [
    "## JSTOR"
   ]
  },
  {
   "cell_type": "code",
   "execution_count": 4,
   "id": "e5c7be0a-730a-41b2-962b-b73cf6687f74",
   "metadata": {},
   "outputs": [
    {
     "data": {
      "text/html": [
       "<div>\n",
       "<style scoped>\n",
       "    .dataframe tbody tr th:only-of-type {\n",
       "        vertical-align: middle;\n",
       "    }\n",
       "\n",
       "    .dataframe tbody tr th {\n",
       "        vertical-align: top;\n",
       "    }\n",
       "\n",
       "    .dataframe thead th {\n",
       "        text-align: right;\n",
       "    }\n",
       "</style>\n",
       "<table border=\"1\" class=\"dataframe\">\n",
       "  <thead>\n",
       "    <tr style=\"text-align: right;\">\n",
       "      <th></th>\n",
       "      <th>journal</th>\n",
       "      <th>year</th>\n",
       "      <th>volume</th>\n",
       "      <th>issue</th>\n",
       "      <th>title</th>\n",
       "      <th>nwords</th>\n",
       "      <th>npages</th>\n",
       "      <th>nauthors</th>\n",
       "      <th>auth1_name</th>\n",
       "      <th>auth1_gender</th>\n",
       "      <th>auth1_probwom</th>\n",
       "      <th>emp</th>\n",
       "      <th>gender_topic</th>\n",
       "    </tr>\n",
       "  </thead>\n",
       "  <tbody>\n",
       "    <tr>\n",
       "      <th>231098</th>\n",
       "      <td>Health Education Research</td>\n",
       "      <td>2015</td>\n",
       "      <td>30</td>\n",
       "      <td>2</td>\n",
       "      <td>Evidence valued and used by health promotion p...</td>\n",
       "      <td>7602</td>\n",
       "      <td>13.0</td>\n",
       "      <td>3.0</td>\n",
       "      <td>None</td>\n",
       "      <td>None</td>\n",
       "      <td>NaN</td>\n",
       "      <td>12</td>\n",
       "      <td>0.000209</td>\n",
       "    </tr>\n",
       "    <tr>\n",
       "      <th>111487</th>\n",
       "      <td>Art Education</td>\n",
       "      <td>1994</td>\n",
       "      <td>47</td>\n",
       "      <td>2</td>\n",
       "      <td>Standards and Assessment: New Initiative and C...</td>\n",
       "      <td>3111</td>\n",
       "      <td>5.0</td>\n",
       "      <td>1.0</td>\n",
       "      <td>Jerome</td>\n",
       "      <td>man</td>\n",
       "      <td>0.00</td>\n",
       "      <td>1</td>\n",
       "      <td>0.000511</td>\n",
       "    </tr>\n",
       "    <tr>\n",
       "      <th>170352</th>\n",
       "      <td>The Journal of Education</td>\n",
       "      <td>1939</td>\n",
       "      <td>122</td>\n",
       "      <td>1</td>\n",
       "      <td>Spelling as a College Subject</td>\n",
       "      <td>1050</td>\n",
       "      <td>2.0</td>\n",
       "      <td>1.0</td>\n",
       "      <td>Alfred</td>\n",
       "      <td>man</td>\n",
       "      <td>0.00</td>\n",
       "      <td>0</td>\n",
       "      <td>0.001447</td>\n",
       "    </tr>\n",
       "    <tr>\n",
       "      <th>49976</th>\n",
       "      <td>Canadian Journal of Education / Revue canadien...</td>\n",
       "      <td>1991</td>\n",
       "      <td>16</td>\n",
       "      <td>3</td>\n",
       "      <td>Le visiteur, le guide et l'éducation</td>\n",
       "      <td>2817</td>\n",
       "      <td>7.0</td>\n",
       "      <td>2.0</td>\n",
       "      <td>Bernard</td>\n",
       "      <td>man</td>\n",
       "      <td>0.01</td>\n",
       "      <td>0</td>\n",
       "      <td>0.000347</td>\n",
       "    </tr>\n",
       "    <tr>\n",
       "      <th>168849</th>\n",
       "      <td>The Journal of Education</td>\n",
       "      <td>1903</td>\n",
       "      <td>57</td>\n",
       "      <td>1 (1410)</td>\n",
       "      <td>STATE EDUCATION</td>\n",
       "      <td>1443</td>\n",
       "      <td>2.0</td>\n",
       "      <td>1.0</td>\n",
       "      <td>None</td>\n",
       "      <td>None</td>\n",
       "      <td>NaN</td>\n",
       "      <td>0</td>\n",
       "      <td>0.001153</td>\n",
       "    </tr>\n",
       "  </tbody>\n",
       "</table>\n",
       "</div>"
      ],
      "text/plain": [
       "                                                  journal  year volume  \\\n",
       "231098                          Health Education Research  2015     30   \n",
       "111487                                      Art Education  1994     47   \n",
       "170352                           The Journal of Education  1939    122   \n",
       "49976   Canadian Journal of Education / Revue canadien...  1991     16   \n",
       "168849                           The Journal of Education  1903     57   \n",
       "\n",
       "           issue                                              title  nwords  \\\n",
       "231098         2  Evidence valued and used by health promotion p...    7602   \n",
       "111487         2  Standards and Assessment: New Initiative and C...    3111   \n",
       "170352         1                      Spelling as a College Subject    1050   \n",
       "49976          3               Le visiteur, le guide et l'éducation    2817   \n",
       "168849  1 (1410)                                    STATE EDUCATION    1443   \n",
       "\n",
       "        npages  nauthors auth1_name auth1_gender  auth1_probwom  emp  \\\n",
       "231098    13.0       3.0       None         None            NaN   12   \n",
       "111487     5.0       1.0     Jerome          man           0.00    1   \n",
       "170352     2.0       1.0     Alfred          man           0.00    0   \n",
       "49976      7.0       2.0    Bernard          man           0.01    0   \n",
       "168849     2.0       1.0       None         None            NaN    0   \n",
       "\n",
       "        gender_topic  \n",
       "231098      0.000209  \n",
       "111487      0.000511  \n",
       "170352      0.001447  \n",
       "49976       0.000347  \n",
       "168849      0.001153  "
      ]
     },
     "execution_count": 4,
     "metadata": {},
     "output_type": "execute_result"
    }
   ],
   "source": [
    "articles = pd.read_feather(ROOT + \"data/JSTOR/interim/cleaned.feather\")\n",
    "articles = articles[\n",
    "    [\n",
    "        \"journal\",\n",
    "        \"year\",\n",
    "        \"volume\",\n",
    "        \"issue\",\n",
    "        \"title\",\n",
    "        \"nwords\",\n",
    "        \"npages\",\n",
    "        \"nauthors\",\n",
    "        \"auth1_name\",\n",
    "        \"auth1_gender\",\n",
    "        \"auth1_probwom\",\n",
    "        \"emp\",\n",
    "        \"gender_topic\",\n",
    "    ]\n",
    "]\n",
    "articles.sample(5)"
   ]
  },
  {
   "cell_type": "code",
   "execution_count": 5,
   "id": "cb26d7a2-f1a0-4835-b9dc-fe46468707e4",
   "metadata": {},
   "outputs": [
    {
     "data": {
      "text/plain": [
       "count    243060.000000\n",
       "mean          3.265198\n",
       "std           8.815065\n",
       "min           0.000000\n",
       "25%           0.000000\n",
       "50%           0.000000\n",
       "75%           3.000000\n",
       "max         440.000000\n",
       "Name: emp, dtype: float64"
      ]
     },
     "execution_count": 5,
     "metadata": {},
     "output_type": "execute_result"
    }
   ],
   "source": [
    "articles['emp'].describe()"
   ]
  },
  {
   "cell_type": "code",
   "execution_count": 6,
   "id": "313a334c-62e1-4d1d-98e9-8f0d90f9f6dc",
   "metadata": {},
   "outputs": [
    {
     "data": {
      "text/plain": [
       "man      129451\n",
       "woman     70400\n",
       "Name: auth1_gender, dtype: int64"
      ]
     },
     "execution_count": 6,
     "metadata": {},
     "output_type": "execute_result"
    }
   ],
   "source": [
    "articles['auth1_gender'].value_counts()"
   ]
  },
  {
   "cell_type": "code",
   "execution_count": 7,
   "id": "63939368-ddea-4ff7-8632-d824ff77ac3e",
   "metadata": {},
   "outputs": [
    {
     "data": {
      "text/plain": [
       "count    243060.000000\n",
       "mean          0.007160\n",
       "std           0.022911\n",
       "min           0.000023\n",
       "25%           0.000638\n",
       "50%           0.001532\n",
       "75%           0.004245\n",
       "max           0.454584\n",
       "Name: gender_topic, dtype: float64"
      ]
     },
     "execution_count": 7,
     "metadata": {},
     "output_type": "execute_result"
    }
   ],
   "source": [
    "articles['gender_topic'].describe()"
   ]
  },
  {
   "cell_type": "markdown",
   "id": "f508fda2-2a11-4c06-93da-7ed6f5449ac0",
   "metadata": {},
   "source": [
    "## VDEM"
   ]
  },
  {
   "cell_type": "code",
   "execution_count": 8,
   "id": "f14fd12f-f064-4a4e-ab39-d93d09acec56",
   "metadata": {},
   "outputs": [
    {
     "data": {
      "text/html": [
       "<div>\n",
       "<style scoped>\n",
       "    .dataframe tbody tr th:only-of-type {\n",
       "        vertical-align: middle;\n",
       "    }\n",
       "\n",
       "    .dataframe tbody tr th {\n",
       "        vertical-align: top;\n",
       "    }\n",
       "\n",
       "    .dataframe thead th {\n",
       "        text-align: right;\n",
       "    }\n",
       "</style>\n",
       "<table border=\"1\" class=\"dataframe\">\n",
       "  <thead>\n",
       "    <tr style=\"text-align: right;\">\n",
       "      <th></th>\n",
       "      <th>vdem</th>\n",
       "      <th>vdem2</th>\n",
       "    </tr>\n",
       "    <tr>\n",
       "      <th>year</th>\n",
       "      <th></th>\n",
       "      <th></th>\n",
       "    </tr>\n",
       "  </thead>\n",
       "  <tbody>\n",
       "    <tr>\n",
       "      <th>1965</th>\n",
       "      <td>0.363596</td>\n",
       "      <td>0.415552</td>\n",
       "    </tr>\n",
       "    <tr>\n",
       "      <th>1995</th>\n",
       "      <td>0.620926</td>\n",
       "      <td>0.647462</td>\n",
       "    </tr>\n",
       "    <tr>\n",
       "      <th>1945</th>\n",
       "      <td>0.249980</td>\n",
       "      <td>0.285284</td>\n",
       "    </tr>\n",
       "    <tr>\n",
       "      <th>1953</th>\n",
       "      <td>0.305654</td>\n",
       "      <td>0.344493</td>\n",
       "    </tr>\n",
       "    <tr>\n",
       "      <th>1940</th>\n",
       "      <td>0.228527</td>\n",
       "      <td>0.262390</td>\n",
       "    </tr>\n",
       "  </tbody>\n",
       "</table>\n",
       "</div>"
      ],
      "text/plain": [
       "          vdem     vdem2\n",
       "year                    \n",
       "1965  0.363596  0.415552\n",
       "1995  0.620926  0.647462\n",
       "1945  0.249980  0.285284\n",
       "1953  0.305654  0.344493\n",
       "1940  0.228527  0.262390"
      ]
     },
     "execution_count": 8,
     "metadata": {},
     "output_type": "execute_result"
    }
   ],
   "source": [
    "vdem = pd.read_csv(ROOT + \"/data/VDEM/V-Dem-CY-Full+Others-v12.csv\", usecols=[\"year\", \"v2x_gencs\", \"v2x_gender\"])\n",
    "vdem[\"vdem\"] = vdem.groupby(\"year\")[\"v2x_gencs\"].transform(\"mean\")\n",
    "vdem[\"vdem2\"] = vdem.groupby(\"year\")[\"v2x_gender\"].transform(\"mean\")\n",
    "vdem = vdem.drop([\"v2x_gencs\", \"v2x_gender\"], axis=1)\n",
    "vdem = vdem[(vdem[\"year\"] > 1899)]\n",
    "vdem = vdem.drop_duplicates()\n",
    "vdem = vdem.astype({\"year\": int})\n",
    "vdem = vdem.set_index('year')\n",
    "vdem.sample(5)"
   ]
  },
  {
   "cell_type": "code",
   "execution_count": 9,
   "id": "d24fb1af-df54-4f46-b568-1b6c9474c80d",
   "metadata": {},
   "outputs": [
    {
     "name": "stdout",
     "output_type": "stream",
     "text": [
      "unlagged start: 1900\n",
      "lagged start: 1901\n"
     ]
    }
   ],
   "source": [
    "lag = 1\n",
    "l_vdem = vdem.shift(lag).dropna()\n",
    "print(\"unlagged start:\", vdem.index.min())\n",
    "print(\"lagged start:\", l_vdem.index.min())"
   ]
  },
  {
   "cell_type": "code",
   "execution_count": 10,
   "id": "d8f8d943-b706-45d7-9867-f53fdc873700",
   "metadata": {},
   "outputs": [
    {
     "data": {
      "text/plain": [
       "2021"
      ]
     },
     "execution_count": 10,
     "metadata": {},
     "output_type": "execute_result"
    }
   ],
   "source": [
    "max(vdem.index)"
   ]
  },
  {
   "cell_type": "markdown",
   "id": "41e71478-f9b5-4679-bb27-65edbc12c8ba",
   "metadata": {},
   "source": [
    "## Merge"
   ]
  },
  {
   "cell_type": "code",
   "execution_count": 11,
   "id": "e30ef39d-348e-469d-b941-6476f2a47ef4",
   "metadata": {},
   "outputs": [
    {
     "data": {
      "text/html": [
       "<div>\n",
       "<style scoped>\n",
       "    .dataframe tbody tr th:only-of-type {\n",
       "        vertical-align: middle;\n",
       "    }\n",
       "\n",
       "    .dataframe tbody tr th {\n",
       "        vertical-align: top;\n",
       "    }\n",
       "\n",
       "    .dataframe thead th {\n",
       "        text-align: right;\n",
       "    }\n",
       "</style>\n",
       "<table border=\"1\" class=\"dataframe\">\n",
       "  <thead>\n",
       "    <tr style=\"text-align: right;\">\n",
       "      <th></th>\n",
       "      <th>journal</th>\n",
       "      <th>year</th>\n",
       "      <th>volume</th>\n",
       "      <th>issue</th>\n",
       "      <th>title</th>\n",
       "      <th>nwords</th>\n",
       "      <th>npages</th>\n",
       "      <th>nauthors</th>\n",
       "      <th>auth1_name</th>\n",
       "      <th>auth1_gender</th>\n",
       "      <th>auth1_probwom</th>\n",
       "      <th>emp</th>\n",
       "      <th>gender_topic</th>\n",
       "      <th>vdem</th>\n",
       "      <th>vdem2</th>\n",
       "      <th>id</th>\n",
       "    </tr>\n",
       "  </thead>\n",
       "  <tbody>\n",
       "    <tr>\n",
       "      <th>4550</th>\n",
       "      <td>American Music Teacher</td>\n",
       "      <td>1993</td>\n",
       "      <td>43</td>\n",
       "      <td>3</td>\n",
       "      <td>Independent Music Teachers Forum</td>\n",
       "      <td>3529</td>\n",
       "      <td>2.0</td>\n",
       "      <td>4.0</td>\n",
       "      <td>Mary</td>\n",
       "      <td>woman</td>\n",
       "      <td>1.00</td>\n",
       "      <td>0</td>\n",
       "      <td>0.000453</td>\n",
       "      <td>0.594667</td>\n",
       "      <td>0.617420</td>\n",
       "      <td>4550</td>\n",
       "    </tr>\n",
       "    <tr>\n",
       "      <th>233592</th>\n",
       "      <td>The Science Teacher</td>\n",
       "      <td>1956</td>\n",
       "      <td>23</td>\n",
       "      <td>1</td>\n",
       "      <td>The Science Teacher and Problem Solving</td>\n",
       "      <td>2859</td>\n",
       "      <td>4.0</td>\n",
       "      <td>1.0</td>\n",
       "      <td>OREON</td>\n",
       "      <td>man</td>\n",
       "      <td>0.00</td>\n",
       "      <td>0</td>\n",
       "      <td>0.003676</td>\n",
       "      <td>0.307551</td>\n",
       "      <td>0.348750</td>\n",
       "      <td>233592</td>\n",
       "    </tr>\n",
       "    <tr>\n",
       "      <th>57051</th>\n",
       "      <td>Health Education Quarterly</td>\n",
       "      <td>1994</td>\n",
       "      <td>21</td>\n",
       "      <td>3</td>\n",
       "      <td>Ethnographic Approach to Community Organizatio...</td>\n",
       "      <td>4542</td>\n",
       "      <td>10.0</td>\n",
       "      <td>3.0</td>\n",
       "      <td>Ronald</td>\n",
       "      <td>man</td>\n",
       "      <td>0.00</td>\n",
       "      <td>8</td>\n",
       "      <td>0.000296</td>\n",
       "      <td>0.605269</td>\n",
       "      <td>0.628807</td>\n",
       "      <td>57051</td>\n",
       "    </tr>\n",
       "    <tr>\n",
       "      <th>66616</th>\n",
       "      <td>International Review of Education / Internatio...</td>\n",
       "      <td>1970</td>\n",
       "      <td>16</td>\n",
       "      <td>3</td>\n",
       "      <td>Teacher Training in Socialist Countries</td>\n",
       "      <td>4004</td>\n",
       "      <td>8.0</td>\n",
       "      <td>1.0</td>\n",
       "      <td>Dragutin</td>\n",
       "      <td>man</td>\n",
       "      <td>0.02</td>\n",
       "      <td>0</td>\n",
       "      <td>0.004786</td>\n",
       "      <td>0.376500</td>\n",
       "      <td>0.427711</td>\n",
       "      <td>66616</td>\n",
       "    </tr>\n",
       "    <tr>\n",
       "      <th>171256</th>\n",
       "      <td>The Journal of Education</td>\n",
       "      <td>1916</td>\n",
       "      <td>83</td>\n",
       "      <td>26 (2086)</td>\n",
       "      <td>LANDSCAPE DEMONSTRATIONS BEING INTRODUCED IN R...</td>\n",
       "      <td>533</td>\n",
       "      <td>1.0</td>\n",
       "      <td>1.0</td>\n",
       "      <td>ELIZABETH</td>\n",
       "      <td>woman</td>\n",
       "      <td>1.00</td>\n",
       "      <td>0</td>\n",
       "      <td>0.006579</td>\n",
       "      <td>0.202993</td>\n",
       "      <td>0.237795</td>\n",
       "      <td>171256</td>\n",
       "    </tr>\n",
       "  </tbody>\n",
       "</table>\n",
       "</div>"
      ],
      "text/plain": [
       "                                                  journal  year volume  \\\n",
       "4550                               American Music Teacher  1993     43   \n",
       "233592                                The Science Teacher  1956     23   \n",
       "57051                          Health Education Quarterly  1994     21   \n",
       "66616   International Review of Education / Internatio...  1970     16   \n",
       "171256                           The Journal of Education  1916     83   \n",
       "\n",
       "            issue                                              title  nwords  \\\n",
       "4550            3                   Independent Music Teachers Forum    3529   \n",
       "233592          1            The Science Teacher and Problem Solving    2859   \n",
       "57051           3  Ethnographic Approach to Community Organizatio...    4542   \n",
       "66616           3            Teacher Training in Socialist Countries    4004   \n",
       "171256  26 (2086)  LANDSCAPE DEMONSTRATIONS BEING INTRODUCED IN R...     533   \n",
       "\n",
       "        npages  nauthors auth1_name auth1_gender  auth1_probwom  emp  \\\n",
       "4550       2.0       4.0       Mary        woman           1.00    0   \n",
       "233592     4.0       1.0      OREON          man           0.00    0   \n",
       "57051     10.0       3.0     Ronald          man           0.00    8   \n",
       "66616      8.0       1.0   Dragutin          man           0.02    0   \n",
       "171256     1.0       1.0  ELIZABETH        woman           1.00    0   \n",
       "\n",
       "        gender_topic      vdem     vdem2      id  \n",
       "4550        0.000453  0.594667  0.617420    4550  \n",
       "233592      0.003676  0.307551  0.348750  233592  \n",
       "57051       0.000296  0.605269  0.628807   57051  \n",
       "66616       0.004786  0.376500  0.427711   66616  \n",
       "171256      0.006579  0.202993  0.237795  171256  "
      ]
     },
     "execution_count": 11,
     "metadata": {},
     "output_type": "execute_result"
    }
   ],
   "source": [
    "df = articles.merge(l_vdem, how=\"left\", left_on=\"year\", right_index=True)\n",
    "df = df.sort_values(by=[\"journal\", \"year\"])\n",
    "df = df.reset_index(drop=True)\n",
    "df['id'] = df.index\n",
    "df = df.dropna(subset='vdem')\n",
    "df.sample(5)"
   ]
  },
  {
   "cell_type": "code",
   "execution_count": 12,
   "id": "01614552-2279-4f52-b577-3f919b42d6d2",
   "metadata": {},
   "outputs": [
    {
     "data": {
      "text/plain": [
       "(243017, 16)"
      ]
     },
     "execution_count": 12,
     "metadata": {},
     "output_type": "execute_result"
    }
   ],
   "source": [
    "df.shape"
   ]
  },
  {
   "cell_type": "markdown",
   "id": "f646d2ca-8a7b-4201-80b2-79da4128bc56",
   "metadata": {},
   "source": [
    "# Transform variables"
   ]
  },
  {
   "cell_type": "code",
   "execution_count": 167,
   "id": "ad06e8f3-56c2-4c7f-9d84-6af5275da971",
   "metadata": {},
   "outputs": [],
   "source": [
    "ALL = [\"title\", \"auth1_name\", \"volume\", \"journal\",\n",
    "       \"gender_topic\",\n",
    "       \"issue\", \n",
    "       \"nwords\", \n",
    "       \"year\",\n",
    "       \"vdem\",\n",
    "       \"vdem2\",\n",
    "       \"auth1_gender\", \n",
    "       \"auth1_probwom\",\n",
    "       \"emp\", \"id\"]\n",
    "data = df[ALL]\n",
    "\n",
    "# Drop most recent 10 years\n",
    "moving_wall = 10\n",
    "data = data[data['year'] < data['year'].max()- moving_wall]\n",
    "\n",
    "\n",
    "# When name unknwon, make it unknown\n",
    "data['volume'].fillna(\"unknown\", inplace=True)\n",
    "\n",
    "# When name unknwon, make it unknown\n",
    "data['auth1_name'].fillna(\"unknown\", inplace=True)\n",
    "\n",
    "# When gender NA, make it unknown\n",
    "data['auth1_gender'].fillna(\"unknown\", inplace=True)\n",
    "\n",
    "# When prob unknown, make it chance\n",
    "data['auth1_probwom'].fillna(.5, inplace=True)\n",
    "\n",
    "# Drop extreme cases\n",
    "data = data[(data['nwords']< np.percentile(data.nwords,99)) & (data['nwords'] > np.percentile(data.nwords,1))]\n",
    "\n",
    "data = data.dropna()\n",
    "data = data.reset_index(drop=True)"
   ]
  },
  {
   "cell_type": "code",
   "execution_count": 168,
   "id": "ff6d9b1f-42e2-4e0c-bca2-0fa0400d1cb4",
   "metadata": {},
   "outputs": [
    {
     "data": {
      "text/plain": [
       "(200292, 14)"
      ]
     },
     "execution_count": 168,
     "metadata": {},
     "output_type": "execute_result"
    }
   ],
   "source": [
    "data.shape"
   ]
  },
  {
   "cell_type": "code",
   "execution_count": 186,
   "id": "242d1f46-4ff2-479e-849c-5e065a7d688c",
   "metadata": {},
   "outputs": [
    {
     "data": {
      "text/plain": [
       "1910"
      ]
     },
     "execution_count": 186,
     "metadata": {},
     "output_type": "execute_result"
    }
   ],
   "source": [
    "data.year.min()"
   ]
  },
  {
   "cell_type": "code",
   "execution_count": 169,
   "id": "d0145054-550a-45b3-b636-26f77ae87d8e",
   "metadata": {},
   "outputs": [],
   "source": [
    "# Issue becomes cat\n",
    "data.issue = data.issue.astype('category').cat.codes\n",
    "\n",
    "# Author dummies \n",
    "data[\"auth1_gender\"] = data[\"auth1_gender\"].fillna(\"unknown\")\n",
    "data.loc[\n",
    "    (data[\"auth1_probwom\"] >= 0.35) & (data[\"auth1_probwom\"] <= 0.65), \"auth1_gender\"\n",
    "] = \"unknown\"\n",
    "\n",
    "data = data.join(pd.get_dummies(data[\"auth1_gender\"]))\n",
    "data['std_gender_topic'] = (data['gender_topic'] - data['gender_topic'].mean()) / data['gender_topic'].std()\n",
    "\n",
    "# Standardize Vdem and empirical counts\n",
    "data[\"std_vdem\"] = (data[\"vdem\"] - data[\"vdem\"].mean()) / data[\"vdem\"].std()\n",
    "data[\"std_vdem2\"] = (data[\"vdem2\"] - data[\"vdem2\"].mean()) / data[\"vdem2\"].std()\n",
    "data[\"std_emp\"] = (data[\"emp\"] - data[\"emp\"].mean()) / data[\"emp\"].std()\n",
    "\n",
    "# Data-oriented articles\n",
    "data[\"data_article\"] = np.where((data[\"std_emp\"] > 0), 1, 0)"
   ]
  },
  {
   "cell_type": "code",
   "execution_count": 170,
   "id": "2a7f53c8-6e5a-4b16-bd7f-cccf9d4cbb44",
   "metadata": {},
   "outputs": [
    {
     "data": {
      "text/plain": [
       "(200292, 22)"
      ]
     },
     "execution_count": 170,
     "metadata": {},
     "output_type": "execute_result"
    }
   ],
   "source": [
    "data.shape"
   ]
  },
  {
   "cell_type": "code",
   "execution_count": 106,
   "id": "b45bbc48-736b-4ed5-bc21-4a33b5c1ecc3",
   "metadata": {},
   "outputs": [],
   "source": [
    "ALL = ['issue', 'nwords', 'year', 'std_vdem', 'std_vdem2',\n",
    "       'man', 'unknown', 'woman', 'gender_topic', 'std_gender_topic',\n",
    "       'data_article', 'auth1_probwom']"
   ]
  },
  {
   "cell_type": "code",
   "execution_count": 107,
   "id": "7e862569-e457-44ef-b120-03de7660cc63",
   "metadata": {},
   "outputs": [
    {
     "data": {
      "text/plain": [
       "(200292, 19)"
      ]
     },
     "execution_count": 107,
     "metadata": {},
     "output_type": "execute_result"
    }
   ],
   "source": [
    "data.shape"
   ]
  },
  {
   "cell_type": "code",
   "execution_count": 108,
   "id": "9fe5a7bf-d330-4de4-a67a-47ec1f006ed4",
   "metadata": {},
   "outputs": [],
   "source": [
    "data.to_csv(ROOT+\"data/processed.csv\")"
   ]
  },
  {
   "cell_type": "markdown",
   "id": "a3a4a959-0b16-40ee-b2a2-4e178f0eee3f",
   "metadata": {},
   "source": [
    "## Table 1"
   ]
  },
  {
   "cell_type": "code",
   "execution_count": 171,
   "id": "55f20bff-4d46-4f61-a15b-2640b019f0cc",
   "metadata": {},
   "outputs": [],
   "source": [
    "def code_decade(year):\n",
    "    cen = str(year // 100)\n",
    "    dec = str(math.floor((year) % 100 / 10) * 10)\n",
    "    if dec == \"0\":\n",
    "        dec = \"00\"\n",
    "    return cen + dec + \"s\""
   ]
  },
  {
   "cell_type": "code",
   "execution_count": 172,
   "id": "fd49f222-3b74-4f52-a805-b1712e203862",
   "metadata": {},
   "outputs": [],
   "source": [
    "data['decade'] = data['year'].apply(code_decade)"
   ]
  },
  {
   "cell_type": "code",
   "execution_count": 176,
   "id": "0a7cc586-3844-4c77-8392-8955ba5ff5a3",
   "metadata": {},
   "outputs": [
    {
     "data": {
      "text/plain": [
       "Index(['journal', 'year', 'volume', 'issue', 'title', 'nwords', 'npages',\n",
       "       'nauthors', 'auth1_name', 'auth1_gender', 'auth1_probwom', 'emp',\n",
       "       'gender_topic'],\n",
       "      dtype='object')"
      ]
     },
     "execution_count": 176,
     "metadata": {},
     "output_type": "execute_result"
    }
   ],
   "source": [
    "articles.columns"
   ]
  },
  {
   "cell_type": "code",
   "execution_count": 177,
   "id": "3b618917-2bb5-41fa-b389-f3128687a4be",
   "metadata": {},
   "outputs": [],
   "source": [
    "articles['decade'] = articles['year'].apply(code_decade)"
   ]
  },
  {
   "cell_type": "code",
   "execution_count": 191,
   "id": "f0119a1c-0903-48e0-9220-4aad4180d21a",
   "metadata": {},
   "outputs": [],
   "source": [
    "with open(ROOT+\"reports/top10_all.csv\", \"w\") as f: \n",
    "    writer = csv.writer(f)\n",
    "    features = [\"title\", \n",
    "            \"auth1_name\",\n",
    "            \"journal\",\n",
    "            \"year\", \n",
    "            \"volume\", \n",
    "            \"issue\", \n",
    "            \"auth1_probwom\", \n",
    "            \"gender_topic\", \n",
    "            \"emp\"]\n",
    "    writer.writerow(features)\n",
    "    for decade, dec_df in articles.groupby(\"decade\"):\n",
    "        max_loading = sorted(dec_df['gender_topic'])[-1]\n",
    "        row = []\n",
    "        for feature in features: \n",
    "            feature = dec_df[dec_df[\"gender_topic\"]==max_loading][feature].iloc[0]\n",
    "            if type(feature) is np.float64:\n",
    "                feature = round(feature, 3)\n",
    "            row.append(feature)\n",
    "        writer.writerow(row)\n",
    "    \n",
    "    # edge case: 2010\n",
    "    only2010 = articles[articles['year']==2010]\n",
    "    max_loading = only2010['gender_topic'].max()\n",
    "    row = []\n",
    "    for feature in features: \n",
    "        feature = only2010[only2010[\"gender_topic\"]==max_loading][feature].iloc[0]\n",
    "        if type(feature) is np.float64:\n",
    "            feature = round(feature, 3)\n",
    "        row.append(feature)    \n",
    "    writer.writerow(row)"
   ]
  },
  {
   "cell_type": "code",
   "execution_count": 197,
   "id": "81c60e6e-06f3-4330-84c1-412175a2694f",
   "metadata": {},
   "outputs": [],
   "source": [
    "with open(ROOT+\"reports/top10_ce.csv\", \"w\") as f: \n",
    "    writer = csv.writer(f)\n",
    "    features = [\"title\", \n",
    "            \"auth1_name\",\n",
    "            \"journal\",\n",
    "            \"year\", \n",
    "            \"volume\", \n",
    "            \"issue\", \n",
    "            \"auth1_probwom\", \n",
    "            \"gender_topic\", \n",
    "            \"emp\"]\n",
    "    writer.writerow(features)\n",
    "    ce = articles[articles['journal'] == \"Comparative Education\"]\n",
    "    for decade, dec_df in ce.groupby(\"decade\"):\n",
    "        max_loading = sorted(dec_df['gender_topic'])[-1]\n",
    "        row = []\n",
    "        for feature in features: \n",
    "            feature = dec_df[dec_df[\"gender_topic\"]==max_loading][feature].iloc[0]\n",
    "            if type(feature) is np.float64:\n",
    "                feature = round(feature, 3)\n",
    "            row.append(feature)\n",
    "        writer.writerow(row)\n",
    "    \n",
    "    # edge case: 2010\n",
    "    only2010 = ce[ce['year']==2010]\n",
    "    max_loading = only2010['gender_topic'].max()\n",
    "    row = []\n",
    "    for feature in features: \n",
    "        feature = only2010[only2010[\"gender_topic\"]==max_loading][feature].iloc[0]\n",
    "        if type(feature) is np.float64:\n",
    "            feature = round(feature, 3)\n",
    "        row.append(feature)    \n",
    "    writer.writerow(row)"
   ]
  },
  {
   "cell_type": "code",
   "execution_count": 196,
   "id": "48f8814e-5aea-49ab-aeb3-cc3eca5e944b",
   "metadata": {},
   "outputs": [],
   "source": [
    "with open(ROOT+\"reports/top10_cer.csv\", \"w\") as f: \n",
    "    writer = csv.writer(f)\n",
    "    features = [\"title\", \n",
    "            \"auth1_name\",\n",
    "            \"journal\",\n",
    "            \"year\", \n",
    "            \"volume\", \n",
    "            \"issue\", \n",
    "            \"auth1_probwom\", \n",
    "            \"gender_topic\", \n",
    "            \"emp\"]\n",
    "    writer.writerow(features)\n",
    "    ce = articles[articles['journal'] == \"Comparative Education Review\"]\n",
    "    for decade, dec_df in ce.groupby(\"decade\"):\n",
    "        max_loading = sorted(dec_df['gender_topic'])[-1]\n",
    "        row = []\n",
    "        for feature in features: \n",
    "            feature = dec_df[dec_df[\"gender_topic\"]==max_loading][feature].iloc[0]\n",
    "            if type(feature) is np.float64:\n",
    "                feature = round(feature, 3)\n",
    "            row.append(feature)\n",
    "        writer.writerow(row)\n",
    "    \n",
    "    # edge case: 2010\n",
    "    only2010 = ce[ce['year']==2010]\n",
    "    max_loading = only2010['gender_topic'].max()\n",
    "    row = []\n",
    "    for feature in features: \n",
    "        feature = only2010[only2010[\"gender_topic\"]==max_loading][feature].iloc[0]\n",
    "        if type(feature) is np.float64:\n",
    "            feature = round(feature, 3)\n",
    "        row.append(feature)    \n",
    "    writer.writerow(row)"
   ]
  },
  {
   "cell_type": "code",
   "execution_count": 198,
   "id": "838f9c1c-3127-4b3d-9f53-15f0abecbc10",
   "metadata": {},
   "outputs": [
    {
     "data": {
      "text/plain": [
       "count    200292.000000\n",
       "mean          0.007189\n",
       "std           0.023407\n",
       "min           0.000061\n",
       "25%           0.000661\n",
       "50%           0.001522\n",
       "75%           0.004058\n",
       "max           0.454584\n",
       "Name: gender_topic, dtype: float64"
      ]
     },
     "execution_count": 198,
     "metadata": {},
     "output_type": "execute_result"
    }
   ],
   "source": [
    "data['gender_topic'].describe()"
   ]
  },
  {
   "cell_type": "markdown",
   "id": "5b033700-4e20-415b-8731-4e803f8849d4",
   "metadata": {},
   "source": [
    "## Table 2a"
   ]
  },
  {
   "cell_type": "code",
   "execution_count": 109,
   "id": "8aef0bba-f870-4cf6-b649-16083d921786",
   "metadata": {},
   "outputs": [],
   "source": [
    "data.to_csv(ROOT+\"data/stat_data.csv\")"
   ]
  },
  {
   "cell_type": "code",
   "execution_count": 110,
   "id": "307154c8-8c89-46c1-a68a-a4c48fc60c24",
   "metadata": {},
   "outputs": [],
   "source": [
    "table1 = data\n",
    "table1 = table1.set_index(['journal', 'id'])[ALL]\n",
    "table1.agg(['count', 'mean', 'std', 'min', 'max']).T.astype(float).round(2).to_excel(ROOT+\"reports/table_1a.xlsx\", \n",
    "                        index=True, \n",
    "                        engine='xlsxwriter', \n",
    "                        sheet_name=f'table_2a')"
   ]
  },
  {
   "cell_type": "markdown",
   "id": "244232fc-22b3-463f-a262-8e3a205e70eb",
   "metadata": {},
   "source": [
    "## Table 2b"
   ]
  },
  {
   "cell_type": "code",
   "execution_count": 111,
   "id": "f62cfc61-0146-47b0-9db5-200a9543ad5d",
   "metadata": {},
   "outputs": [],
   "source": [
    "pd.DataFrame(np.tril(table1[ALL].corr().round(2).to_numpy()), \n",
    "             columns=ALL,\n",
    "             index=ALL).to_excel(ROOT+\"reports/table_1b.xlsx\", \n",
    "                        index=True, \n",
    "                        engine='xlsxwriter',\n",
    "                        sheet_name=f'table_2b')"
   ]
  },
  {
   "cell_type": "markdown",
   "id": "964e2510-2fc4-4b33-8433-112ffdb052a3",
   "metadata": {},
   "source": [
    "# Model"
   ]
  },
  {
   "cell_type": "markdown",
   "id": "a3f6e5f7-d011-475d-9a58-84e0afe383fb",
   "metadata": {},
   "source": [
    "Compute interaction terms"
   ]
  },
  {
   "cell_type": "code",
   "execution_count": 112,
   "id": "7e9e079a-2bdb-4a50-bc03-88978dc0535b",
   "metadata": {},
   "outputs": [],
   "source": [
    "data['probXvdem2'] = data['auth1_probwom'] * data['std_vdem2']"
   ]
  },
  {
   "cell_type": "code",
   "execution_count": 113,
   "id": "4e20b4e9-6d41-49d4-97b0-194cffa9931a",
   "metadata": {},
   "outputs": [],
   "source": [
    "data['womanXyear'] = data['woman'] * data['year']\n",
    "data['manXyear'] = data['man'] * data['year']"
   ]
  },
  {
   "cell_type": "code",
   "execution_count": 114,
   "id": "b1a7ff22-6849-48f0-8a4f-16cbcdd684bc",
   "metadata": {},
   "outputs": [],
   "source": [
    "def write_table(path, results, table_n):\n",
    "    '''\n",
    "    takes a path, PanelOLS results obj, and table number\n",
    "    transforms PanelOLS results object into a pandas df\n",
    "    writes an excel of results at specified path\n",
    "    '''\n",
    "    results_obj = compare_models(results, precision='std_errors', stars=True)\n",
    "    results_csv = results_obj.summary.as_csv()\n",
    "    results_pth = StringIO(results_csv)\n",
    "    results_df = pd.read_csv(results_pth, skiprows=1, engine='python')\n",
    "    results_df.drop(results_df.index[[10]]).to_excel(path+f'table_{table_n}.xlsx', \n",
    "                        index=False, \n",
    "                        engine='xlsxwriter', \n",
    "                        sheet_name=f'table_{table_n}')"
   ]
  },
  {
   "cell_type": "code",
   "execution_count": 115,
   "id": "a1c712a5-235e-4b56-94d9-0c1b54bfc69c",
   "metadata": {},
   "outputs": [],
   "source": [
    "def nest_models(controls):\n",
    "    '''\n",
    "    takes a baseline model;\n",
    "    returns taxonomy of nested models\n",
    "    with m3 modifiable\n",
    "    '''\n",
    "    ms = []\n",
    "    #0\n",
    "    ms.append(controls)\n",
    "    #1\n",
    "    ms.append(controls + ['year'])\n",
    "    #2\n",
    "    ms.append(controls + ['std_vdem2'])\n",
    "    #3\n",
    "    ms.append(ms[2] + ['auth1_probwom'])\n",
    "    #4\n",
    "    ms.append(ms[3] + ['probXvdem2'])\n",
    "    #5\n",
    "    ms.append(ms[2] + ['data_article'])\n",
    "    #6\n",
    "    ms.append(ms[4] + ['data_article'])\n",
    "    return ms"
   ]
  },
  {
   "cell_type": "markdown",
   "id": "d73f2d8c-d386-4437-89a2-8022e8f38139",
   "metadata": {},
   "source": [
    "## Table 3"
   ]
  },
  {
   "cell_type": "code",
   "execution_count": 117,
   "id": "280567e6-bdf9-4350-a95d-8be14a3199d1",
   "metadata": {},
   "outputs": [],
   "source": [
    "panel_data = data.set_index([\"journal\", \"id\"])\n",
    "outcome = panel_data.std_gender_topic\n",
    "models = nest_models(controls=[\"issue\", \"nwords\"])\n",
    "results = {}\n",
    "for i, model in enumerate(models):\n",
    "    predictors = sm.add_constant(panel_data[model])\n",
    "    model = PanelOLS(outcome, predictors, entity_effects=True, check_rank=True, drop_absorbed=True)\n",
    "    res = model.fit(cov_type='clustered')\n",
    "    if f\"Model {i}\" not in results:\n",
    "        results[f\"Model {i}\"] = res\n",
    "write_table(path=ROOT+'reports/', results=results, table_n=\"3\")"
   ]
  },
  {
   "cell_type": "code",
   "execution_count": 118,
   "id": "5b715828-dbd2-49ad-9888-b83e1b1fdf0f",
   "metadata": {},
   "outputs": [
    {
     "data": {
      "text/plain": [
       "162"
      ]
     },
     "execution_count": 118,
     "metadata": {},
     "output_type": "execute_result"
    }
   ],
   "source": [
    "data['journal'].nunique()"
   ]
  },
  {
   "cell_type": "markdown",
   "id": "6e3b31a7-7c15-48c0-a820-955217c94d2c",
   "metadata": {},
   "source": [
    "## Table 4"
   ]
  },
  {
   "cell_type": "code",
   "execution_count": 119,
   "id": "379dab54-da38-43a2-ad9a-23a8434fa1d6",
   "metadata": {},
   "outputs": [],
   "source": [
    "CER = \"Comparative Education Review\"\n",
    "CE = \"Comparative Education\""
   ]
  },
  {
   "cell_type": "code",
   "execution_count": 120,
   "id": "08056833-b6ac-4ca8-8a5c-c878fbb2d234",
   "metadata": {},
   "outputs": [],
   "source": [
    "ols_data = data.copy()\n",
    "ols_data = ols_data[(ols_data[\"journal\"] == CER) | (ols_data[\"journal\"] == CE)]\n",
    "ols_data = ols_data.set_index([\"journal\", \"id\"])\n",
    "outcome = ols_data.std_gender_topic\n",
    "models = nest_models(controls=[\"issue\", \"nwords\"])\n",
    "results = {}\n",
    "for i, model in enumerate(models):\n",
    "    predictors = sm.add_constant(ols_data[model])\n",
    "    model = PanelOLS(outcome, predictors, entity_effects=True)\n",
    "    res = model.fit(cov_type='clustered')\n",
    "    if f\"Model {i}\" not in results:\n",
    "        results[f\"Model {i}\"] = res\n",
    "write_table(path=ROOT+'reports/', results=results, table_n=\"4\")"
   ]
  },
  {
   "cell_type": "markdown",
   "id": "0a8e9176-7d60-4cb2-80d0-5e10ba95a6ef",
   "metadata": {},
   "source": [
    "# Robustness checks"
   ]
  },
  {
   "cell_type": "markdown",
   "id": "f27d0b8c-fe11-4f77-827c-a70c9fda0d91",
   "metadata": {},
   "source": [
    "## Binary gender\n",
    "How robust are our results when we represent women as a binary? "
   ]
  },
  {
   "cell_type": "code",
   "execution_count": 78,
   "id": "b8f04073-2802-4d59-8bda-255532ab29d3",
   "metadata": {},
   "outputs": [],
   "source": [
    "data['womanXvdem2'] = data['woman'] * data['std_vdem2']"
   ]
  },
  {
   "cell_type": "code",
   "execution_count": 79,
   "id": "90d637c2-d7f5-4832-b975-2dd874592d4c",
   "metadata": {},
   "outputs": [],
   "source": [
    "def nest_models(controls):\n",
    "    '''\n",
    "    takes a baseline model;\n",
    "    returns taxonomy of nested models\n",
    "    with m3 modifiable\n",
    "    '''\n",
    "    ms = []\n",
    "    #0\n",
    "    ms.append(controls)\n",
    "    #1\n",
    "    ms.append(controls + ['year'])\n",
    "    #2\n",
    "    ms.append(controls + ['std_vdem2'])\n",
    "    #3\n",
    "    ms.append(ms[2] + ['woman'])\n",
    "    #4\n",
    "    ms.append(ms[3] + ['womanXvdem2'])\n",
    "    #5\n",
    "    ms.append(ms[2] + ['data_article'])\n",
    "    #6\n",
    "    ms.append(ms[4] + ['data_article'])\n",
    "    return ms"
   ]
  },
  {
   "cell_type": "markdown",
   "id": "049bca24-0000-4711-9dd3-90b5a0f58471",
   "metadata": {},
   "source": [
    "### Table D1"
   ]
  },
  {
   "cell_type": "code",
   "execution_count": 80,
   "id": "8d5f5ce5-898a-421d-925e-b41bddf799de",
   "metadata": {},
   "outputs": [],
   "source": [
    "panel_data = data.set_index([\"journal\", \"id\"])\n",
    "outcome = panel_data.std_gender_topic\n",
    "models = nest_models(controls=[\"issue\", \"nwords\"])\n",
    "results = {}\n",
    "for i, model in enumerate(models):\n",
    "    predictors = sm.add_constant(panel_data[model])\n",
    "    model = PanelOLS(outcome, predictors, entity_effects=True, check_rank=True, drop_absorbed=True)\n",
    "    res = model.fit(cov_type='clustered')\n",
    "    if f\"Model {i}\" not in results:\n",
    "        results[f\"Model {i}\"] = res\n",
    "write_table(path=ROOT+'reports/', results=results, table_n=\"d1\")"
   ]
  },
  {
   "cell_type": "markdown",
   "id": "b8d9551c-2e6c-420d-b660-0ddedcc63b2e",
   "metadata": {},
   "source": [
    "### Table D2"
   ]
  },
  {
   "cell_type": "code",
   "execution_count": 81,
   "id": "475ecad3-eca0-4a9a-adc5-789cae71e206",
   "metadata": {},
   "outputs": [],
   "source": [
    "ols_data = data.copy()\n",
    "ols_data = ols_data[(ols_data[\"journal\"] == CER) | (ols_data[\"journal\"] == CE)]\n",
    "ols_data = ols_data.set_index([\"journal\", \"id\"])\n",
    "outcome = ols_data.std_gender_topic\n",
    "models = nest_models(controls=[\"issue\", \"nwords\"])\n",
    "results = {}\n",
    "for i, model in enumerate(models):\n",
    "    predictors = sm.add_constant(ols_data[model])\n",
    "    model = PanelOLS(outcome, predictors, entity_effects=True)\n",
    "    res = model.fit(cov_type='clustered')\n",
    "    if f\"Model {i}\" not in results:\n",
    "        results[f\"Model {i}\"] = res\n",
    "write_table(path=ROOT+'reports/', results=results, table_n=\"d2\")"
   ]
  },
  {
   "cell_type": "code",
   "execution_count": 130,
   "id": "2d6c3a52-e6b1-4eef-ac04-f051b47de2ff",
   "metadata": {},
   "outputs": [
    {
     "data": {
      "text/html": [
       "<div>\n",
       "<style scoped>\n",
       "    .dataframe tbody tr th:only-of-type {\n",
       "        vertical-align: middle;\n",
       "    }\n",
       "\n",
       "    .dataframe tbody tr th {\n",
       "        vertical-align: top;\n",
       "    }\n",
       "\n",
       "    .dataframe thead th {\n",
       "        text-align: right;\n",
       "    }\n",
       "</style>\n",
       "<table border=\"1\" class=\"dataframe\">\n",
       "  <thead>\n",
       "    <tr style=\"text-align: right;\">\n",
       "      <th></th>\n",
       "      <th>auth1_probwom</th>\n",
       "      <th>vdem2</th>\n",
       "    </tr>\n",
       "  </thead>\n",
       "  <tbody>\n",
       "    <tr>\n",
       "      <th>auth1_probwom</th>\n",
       "      <td>1.000000</td>\n",
       "      <td>0.207297</td>\n",
       "    </tr>\n",
       "    <tr>\n",
       "      <th>vdem2</th>\n",
       "      <td>0.207297</td>\n",
       "      <td>1.000000</td>\n",
       "    </tr>\n",
       "  </tbody>\n",
       "</table>\n",
       "</div>"
      ],
      "text/plain": [
       "               auth1_probwom     vdem2\n",
       "auth1_probwom       1.000000  0.207297\n",
       "vdem2               0.207297  1.000000"
      ]
     },
     "execution_count": 130,
     "metadata": {},
     "output_type": "execute_result"
    }
   ],
   "source": [
    "ols_data[['auth1_probwom', 'vdem2']].corr()"
   ]
  },
  {
   "cell_type": "markdown",
   "id": "ff87ea33-8d9c-408c-8332-22952ac650fc",
   "metadata": {},
   "source": [
    "## Civil Society Participation\n",
    "How robust are our results when we more narrowly represent women's empowerment as an index of their civil society participation? "
   ]
  },
  {
   "cell_type": "code",
   "execution_count": 82,
   "id": "139e750c-a83e-47ce-b9e2-515d8c1e2401",
   "metadata": {},
   "outputs": [],
   "source": [
    "data['probXvdem'] = data['auth1_probwom'] * data['std_vdem']"
   ]
  },
  {
   "cell_type": "code",
   "execution_count": 83,
   "id": "a450e250-ec4d-4db0-9d9f-5e9d31df6034",
   "metadata": {},
   "outputs": [],
   "source": [
    "def nest_models(controls):\n",
    "    '''\n",
    "    takes a baseline model;\n",
    "    returns taxonomy of nested models\n",
    "    with m3 modifiable\n",
    "    '''\n",
    "    ms = []\n",
    "    #0\n",
    "    ms.append(controls)\n",
    "    #1\n",
    "    ms.append(controls + ['year'])\n",
    "    #2\n",
    "    ms.append(controls + ['std_vdem'])\n",
    "    #3\n",
    "    ms.append(ms[2] + ['auth1_probwom'])\n",
    "    #4\n",
    "    ms.append(ms[3] + ['probXvdem'])\n",
    "    #5\n",
    "    ms.append(ms[2] + ['data_article'])\n",
    "    #6\n",
    "    ms.append(ms[4] + ['data_article'])\n",
    "    return ms"
   ]
  },
  {
   "cell_type": "markdown",
   "id": "683bdf4b-c367-43e2-bef6-bcb120a4e206",
   "metadata": {},
   "source": [
    "### Table E1"
   ]
  },
  {
   "cell_type": "code",
   "execution_count": 84,
   "id": "c6e8d651-2a0b-40c0-b540-0aef318f5f9a",
   "metadata": {},
   "outputs": [],
   "source": [
    "panel_data = data.set_index([\"journal\", \"id\"])\n",
    "outcome = panel_data.std_gender_topic\n",
    "models = nest_models(controls=[\"issue\", \"nwords\"])\n",
    "results = {}\n",
    "for i, model in enumerate(models):\n",
    "    predictors = sm.add_constant(panel_data[model])\n",
    "    model = PanelOLS(outcome, predictors, entity_effects=True, check_rank=True, drop_absorbed=True)\n",
    "    res = model.fit(cov_type='clustered')\n",
    "    if f\"Model {i}\" not in results:\n",
    "        results[f\"Model {i}\"] = res\n",
    "write_table(path=ROOT+'reports/', results=results, table_n=\"e1\")"
   ]
  },
  {
   "cell_type": "markdown",
   "id": "5be38e14-6b6e-4f09-85fa-1d98c89d8b81",
   "metadata": {},
   "source": [
    "### Table E2"
   ]
  },
  {
   "cell_type": "code",
   "execution_count": 85,
   "id": "215f8903-c87a-46a1-a0f9-3bb07a155e3d",
   "metadata": {},
   "outputs": [],
   "source": [
    "ols_data = data.copy()\n",
    "ols_data = ols_data[(ols_data[\"journal\"] == CER) | (ols_data[\"journal\"] == CE)]\n",
    "ols_data = ols_data.set_index([\"journal\", \"id\"])\n",
    "outcome = ols_data.std_gender_topic\n",
    "models = nest_models(controls=[\"issue\", \"nwords\"])\n",
    "results = {}\n",
    "for i, model in enumerate(models):\n",
    "    predictors = sm.add_constant(ols_data[model])\n",
    "    model = PanelOLS(outcome, predictors, entity_effects=True)\n",
    "    res = model.fit(cov_type='clustered')\n",
    "    if f\"Model {i}\" not in results:\n",
    "        results[f\"Model {i}\"] = res\n",
    "write_table(path=ROOT+'reports/', results=results, table_n=\"e2\")"
   ]
  },
  {
   "cell_type": "markdown",
   "id": "2be277d3-4ab1-41fa-8b5b-8917db70b5d2",
   "metadata": {},
   "source": [
    "## Lagged Periods\n",
    "How robust are the institutional effects when we try different lags? Below is a rinse and repeat of all the data prep and modeling in one cell, wrapped into a loop of different lags. "
   ]
  },
  {
   "cell_type": "code",
   "execution_count": 101,
   "id": "a7b50008-5dab-45db-ae3e-ee30956f6834",
   "metadata": {},
   "outputs": [
    {
     "name": "stdout",
     "output_type": "stream",
     "text": [
      "n journals for lag 1: 163\n",
      "n journals for lag 3: 162\n",
      "n journals for lag 5: 162\n",
      "n journals for lag 10: 162\n"
     ]
    }
   ],
   "source": [
    "results = {}\n",
    "lags = [1,3,5,10]\n",
    "for lag in lags: \n",
    "    \n",
    "    #------------------------------------#\n",
    "    # CREATE MAIN DATA SET, LAGGED\n",
    "    #------------------------------------#\n",
    "    \n",
    "    # Lag\n",
    "    l_vdem = vdem.shift(lag).dropna()\n",
    "    \n",
    "    # Merge\n",
    "    df = articles.merge(l_vdem, how=\"left\", left_on=\"year\", right_index=True)\n",
    "    df = df.sort_values(by=[\"journal\", \"year\"])\n",
    "    df = df.reset_index(drop=True)\n",
    "    df['id'] = df.index\n",
    "    df = df.dropna(subset='vdem')\n",
    "    \n",
    "    # Subset only vars we care about\n",
    "    ALL = [\"journal\",\n",
    "           \"gender_topic\",\n",
    "           \"issue\", \n",
    "           \"nwords\", \n",
    "           \"year\",\n",
    "           \"vdem\",\n",
    "           \"vdem2\",\n",
    "           \"auth1_gender\", \n",
    "           \"auth1_probwom\",\n",
    "           \"emp\", \"id\"]\n",
    "    data = df[ALL]\n",
    "    \n",
    "    \n",
    "    #------------------------------------#\n",
    "    # TRANSFORM VARIABLES \n",
    "    #------------------------------------#\n",
    "\n",
    "    # Drop most recent 10 years\n",
    "    moving_wall = 10\n",
    "    data = data[data['year'] < data['year'].max()- moving_wall]\n",
    "\n",
    "    # When gender NA, make it unknown\n",
    "    data['auth1_gender'].fillna(\"unknown\", inplace=True)\n",
    "\n",
    "    # When prob unknown, make it chance\n",
    "    data['auth1_probwom'].fillna(.5, inplace=True)\n",
    "\n",
    "    # Drop extreme cases\n",
    "    data = data[(data['nwords']< np.percentile(data.nwords,99)) & (data['nwords'] > np.percentile(data.nwords,1))]\n",
    "\n",
    "    data = data.dropna()\n",
    "    data = data.reset_index(drop=True)\n",
    "\n",
    "    # Issue becomes cat\n",
    "    data.issue = data.issue.astype('category').cat.codes\n",
    "\n",
    "    # Author dummies \n",
    "    data[\"auth1_gender\"] = data[\"auth1_gender\"].fillna(\"unknown\")\n",
    "    data.loc[\n",
    "        (data[\"auth1_probwom\"] >= 0.35) & (data[\"auth1_probwom\"] <= 0.65), \"auth1_gender\"\n",
    "    ] = \"unknown\"\n",
    "\n",
    "    data = data.join(pd.get_dummies(data[\"auth1_gender\"]))\n",
    "    data['std_gender_topic'] = (data['gender_topic'] - data['gender_topic'].mean()) / data['gender_topic'].std()\n",
    "\n",
    "    # Standardize Vdem and empirical counts\n",
    "    data[\"std_vdem\"] = (data[\"vdem\"] - data[\"vdem\"].mean()) / data[\"vdem\"].std()\n",
    "    data[\"std_vdem2\"] = (data[\"vdem2\"] - data[\"vdem2\"].mean()) / data[\"vdem2\"].std()\n",
    "    data[\"std_emp\"] = (data[\"emp\"] - data[\"emp\"].mean()) / data[\"emp\"].std()\n",
    "\n",
    "    # Data-oriented articles\n",
    "    data[\"data_article\"] = np.where((data[\"std_emp\"] > 0), 1, 0)\n",
    "\n",
    "\n",
    "    #------------------------------------#\n",
    "    # RE-FIT MODEL 6 \n",
    "    #------------------------------------#\n",
    "    \n",
    "    # Predictors\n",
    "    data['probXvdem2'] = data['auth1_probwom'] * data['std_vdem2']\n",
    "    model_6 = ['issue', \n",
    "               'nwords', \n",
    "               'std_vdem2', \n",
    "               'auth1_probwom', \n",
    "               'probXvdem2', \n",
    "               'data_article']\n",
    "    \n",
    "    # Model Full Data\n",
    "    print(f\"n journals for lag {lag}: {data['journal'].nunique()}\")\n",
    "    panel_data = data.set_index([\"journal\", \"id\"])\n",
    "    outcome = panel_data.std_gender_topic\n",
    "    predictors = sm.add_constant(panel_data[model_6])\n",
    "    model = PanelOLS(outcome, predictors, entity_effects=True, check_rank=True, drop_absorbed=True)\n",
    "    results[f'Model 6 all_{lag}'] = model.fit(cov_type='clustered')\n",
    "    \n",
    "    \n",
    "    # Model CER Data \n",
    "    ols_data = data.copy()\n",
    "    ols_data = ols_data[(ols_data[\"journal\"] == CER) | (ols_data[\"journal\"] == CE)]\n",
    "    ols_data = ols_data.set_index([\"journal\", \"id\"])\n",
    "    outcome = ols_data.std_gender_topic\n",
    "    predictors = sm.add_constant(ols_data[model_6])\n",
    "    model = PanelOLS(outcome, predictors, entity_effects=True)\n",
    "    results[f'Model 6 cer_{lag}'] = model.fit(cov_type='clustered')\n",
    "\n",
    "write_table(path=ROOT+'reports/', results=results, table_n=\"f1\")"
   ]
  },
  {
   "cell_type": "code",
   "execution_count": null,
   "id": "990b7b10-3ed5-4ddd-be84-65f27c1360e6",
   "metadata": {},
   "outputs": [],
   "source": []
  }
 ],
 "metadata": {
  "kernelspec": {
   "display_name": "Python 3 (ipykernel)",
   "language": "python",
   "name": "python3"
  },
  "language_info": {
   "codemirror_mode": {
    "name": "ipython",
    "version": 3
   },
   "file_extension": ".py",
   "mimetype": "text/x-python",
   "name": "python",
   "nbconvert_exporter": "python",
   "pygments_lexer": "ipython3",
   "version": "3.8.15"
  }
 },
 "nbformat": 4,
 "nbformat_minor": 5
}
