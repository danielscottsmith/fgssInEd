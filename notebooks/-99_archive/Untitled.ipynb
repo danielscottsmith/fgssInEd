{
 "cells": [
  {
   "cell_type": "code",
   "execution_count": 2,
   "id": "2b34b5f1-1b4e-4788-a981-a6c1e90ce681",
   "metadata": {},
   "outputs": [],
   "source": [
    "import pandas as pd"
   ]
  },
  {
   "cell_type": "code",
   "execution_count": 3,
   "id": "f0539bb1-5b09-4c0e-b671-a05ce8a27e0d",
   "metadata": {},
   "outputs": [],
   "source": [
    "import os"
   ]
  },
  {
   "cell_type": "code",
   "execution_count": 14,
   "id": "dd5da328-6bc3-4c7b-bb49-d319b275940a",
   "metadata": {},
   "outputs": [],
   "source": [
    "FILE = os.path.dirname(os.getcwd()) + \"/data/interim/interim_articles_df\""
   ]
  },
  {
   "cell_type": "code",
   "execution_count": 16,
   "id": "a1d55564-6431-443c-92cb-f4917ad47870",
   "metadata": {},
   "outputs": [],
   "source": [
    "df = pd.read_feather(FILE+\".feather\")"
   ]
  },
  {
   "cell_type": "code",
   "execution_count": 17,
   "id": "4cacfbc2-5292-402e-88e5-eead6b4bc556",
   "metadata": {},
   "outputs": [
    {
     "data": {
      "text/plain": [
       "Index(['journal', 'year', 'volume', 'issue', 'type', 'authors', 'title',\n",
       "       'nwords', 'npages', 'text', 'nauthors', 'auth1_name'],\n",
       "      dtype='object')"
      ]
     },
     "execution_count": 17,
     "metadata": {},
     "output_type": "execute_result"
    }
   ],
   "source": [
    "df.columns"
   ]
  },
  {
   "cell_type": "code",
   "execution_count": 18,
   "id": "fd0618f8-2573-4ebf-918c-b5c26f36c1ec",
   "metadata": {},
   "outputs": [],
   "source": [
    "df[['journal']].to_csv(FILE+\".csv\", index=False)"
   ]
  },
  {
   "cell_type": "code",
   "execution_count": 19,
   "id": "3a7df929-7cdf-49e2-8411-c6ae54fa6c5d",
   "metadata": {},
   "outputs": [],
   "source": [
    "def no_ed(x):\n",
    "    i = 0\n",
    "    if \"education\" not in x.lower():\n",
    "        i += 1\n",
    "    return i"
   ]
  },
  {
   "cell_type": "code",
   "execution_count": 67,
   "id": "fde51ac7-a5fe-4604-9641-030b5944f65a",
   "metadata": {},
   "outputs": [
    {
     "name": "stdout",
     "output_type": "stream",
     "text": [
      "Visual Arts Research\n",
      "Hispania\n",
      "The Phi Delta Kappan\n",
      "Young Children\n",
      "Journal of the Royal Society of Arts\n",
      "Language Arts\n",
      "Change\n",
      "Journal of Thought\n",
      "Theory Into Practice\n",
      "Child Development\n",
      "Theory into Practice\n",
      "The Clearing House\n",
      "TESOL Quarterly\n",
      "Reading Research Quarterly\n",
      "Bulletin of the American Association of University Professors (1915-1955)\n",
      "The Modern Language Journal\n",
      "Geography\n",
      "Behavioral Disorders\n",
      "Academe\n",
      "The Elementary English Review\n",
      "Bulletin of the Orton Society\n",
      "College Composition and Communication\n",
      "American Annals of the Deaf\n",
      "College English\n",
      "Learning Disability Quarterly\n",
      "YC Young Children\n",
      "The Junior High Clearing House (1920-1921)\n",
      "Science and Children\n",
      "Journal of Reading\n",
      "Revue française de pédagogie\n",
      "Pedagogy in Health Promotion\n",
      "Journal of Adolescent & Adult Literacy\n",
      "The English Journal\n",
      "Children, Youth and Environments\n",
      "Music Supervisors' Journal\n",
      "Elementary English\n",
      "The Journal of the Learning Sciences\n",
      "Audio Visual Communication Review\n",
      "Science Scope\n",
      "ASEE Prism\n",
      "College Music Symposium\n",
      "Bilingual Review / La Revista Bilingüe\n",
      "Journal of Developmental Reading\n",
      "Family Relations\n",
      "The German Quarterly\n",
      "Monographs of the Society for Research in Child Development\n",
      "Merrill-Palmer Quarterly\n",
      "RSA Journal\n",
      "The Journal of Classroom Interaction\n",
      "AAUP Bulletin\n",
      "Annals of Dyslexia\n",
      "The French Review\n",
      "Journal of Assessment and Institutional Effectiveness\n",
      "Transformations: The Journal of Inclusive Scholarship and Pedagogy\n",
      "For the Learning of Mathematics\n",
      "Minerva\n",
      "Paedagogica Europaea\n",
      "Beyond Behavior\n",
      "I.C.I.R.I. Bulletin\n",
      "AV Communication Review\n",
      "Merrill-Palmer Quarterly of Behavior and Development\n",
      "Research Intelligence\n",
      "Roundtable Reports\n",
      "IJOT: The Israeli Journal of Occupational Therapy / כתב עת ישראלי לריפוי בעיסוק\n",
      "Children's Environments\n",
      "The Korean Language in America\n",
      "The Junior High Clearing House (1928-1929)\n",
      "Second Language Research\n",
      "JAE\n",
      "Journal of Basic Writing\n",
      "Children's Environments Quarterly\n",
      "Classroom Interaction Newsletter\n",
      "The Journal of Technology Studies\n",
      "Bulletin of the American Association of University Professors (2010-)\n",
      "The Journal of the Society of Arts\n",
      "Japanese Language and Literature\n",
      "NACTA Journal\n",
      "Merrill-Palmer Quarterly (1954-1958)\n",
      "Revista Española de Pedagogía\n",
      "Italica\n",
      "Al-'Arabiyya\n",
      "National News Letter of Phi Delta Kappa\n",
      "Music Supervisors' Bulletin\n",
      "Pi Lambda Theta Journal\n",
      "Counterpoints\n",
      "The Family Coordinator\n",
      "The Journal of Epsilon Pi Tau\n",
      "Journal Committed to Social Change on Race and Ethnicity (JCSCORE)\n",
      "The Coordinator\n",
      "al-'Arabiyya\n",
      "Internationale Schulbuchforschung\n",
      "The Family Life Coordinator\n",
      "The Course of Study\n",
      "Internationales Jahrbuch für Geschichts- und Geographie-Unterricht\n",
      "an-Nashra\n",
      "95\n",
      "0.35185185185185186\n"
     ]
    }
   ],
   "source": [
    "i = 0\n",
    "for title in df['journal'].unique():\n",
    "    if (\"educat\" not in title.lower() and  \n",
    "        \"teach\" not in title.lower() and \n",
    "        \"school\" not in title.lower() and \n",
    "        \"curric\" not in title.lower() and \n",
    "        \"instruct\" not in title.lower()):\n",
    "        i += 1\n",
    "        print(title)\n",
    "print(i)\n",
    "print(i/len(df['journal'].unique()))"
   ]
  },
  {
   "cell_type": "code",
   "execution_count": 33,
   "id": "500610dd-adc5-42cc-9314-33372c978d1b",
   "metadata": {},
   "outputs": [],
   "source": [
    "FILE = os.path.dirname(os.getcwd()) + \"/data/JSTOR/interim/cleaned.feather\""
   ]
  },
  {
   "cell_type": "code",
   "execution_count": 34,
   "id": "e02be3c7-7775-4b82-a4a5-2ede663e7381",
   "metadata": {},
   "outputs": [],
   "source": [
    "df = pd.read_feather(FILE)"
   ]
  },
  {
   "cell_type": "code",
   "execution_count": 35,
   "id": "e87cfee2-05da-4888-9a5a-587427985a00",
   "metadata": {},
   "outputs": [
    {
     "data": {
      "text/html": [
       "<div>\n",
       "<style scoped>\n",
       "    .dataframe tbody tr th:only-of-type {\n",
       "        vertical-align: middle;\n",
       "    }\n",
       "\n",
       "    .dataframe tbody tr th {\n",
       "        vertical-align: top;\n",
       "    }\n",
       "\n",
       "    .dataframe thead th {\n",
       "        text-align: right;\n",
       "    }\n",
       "</style>\n",
       "<table border=\"1\" class=\"dataframe\">\n",
       "  <thead>\n",
       "    <tr style=\"text-align: right;\">\n",
       "      <th></th>\n",
       "      <th>article_id</th>\n",
       "      <th>journal</th>\n",
       "      <th>year</th>\n",
       "      <th>volume</th>\n",
       "      <th>issue</th>\n",
       "      <th>type</th>\n",
       "      <th>authors</th>\n",
       "      <th>title</th>\n",
       "      <th>nwords</th>\n",
       "      <th>npages</th>\n",
       "      <th>text</th>\n",
       "      <th>nauthors</th>\n",
       "      <th>auth1_name</th>\n",
       "      <th>auth1_gender</th>\n",
       "      <th>auth1_probwom</th>\n",
       "      <th>tokens</th>\n",
       "    </tr>\n",
       "  </thead>\n",
       "  <tbody>\n",
       "    <tr>\n",
       "      <th>0</th>\n",
       "      <td>jstor1</td>\n",
       "      <td>The Journal of Educational Sociology</td>\n",
       "      <td>1945</td>\n",
       "      <td>18</td>\n",
       "      <td>7</td>\n",
       "      <td>research-article</td>\n",
       "      <td>[Heman G. Stark]</td>\n",
       "      <td>California's Program for Delinquency Prevention</td>\n",
       "      <td>1242</td>\n",
       "      <td>5.0</td>\n",
       "      <td>[Part 11. Coordination on the State Level CALI...</td>\n",
       "      <td>1.0</td>\n",
       "      <td>Heman</td>\n",
       "      <td>man</td>\n",
       "      <td>0.01</td>\n",
       "      <td>None</td>\n",
       "    </tr>\n",
       "    <tr>\n",
       "      <th>1</th>\n",
       "      <td>jstor2</td>\n",
       "      <td>The Journal of Higher Education</td>\n",
       "      <td>1964</td>\n",
       "      <td>35</td>\n",
       "      <td>8</td>\n",
       "      <td>research-article</td>\n",
       "      <td>[Joe H. Munster, Jr., Justin C. Smith]</td>\n",
       "      <td>The University in the Market Place: The Partne...</td>\n",
       "      <td>4341</td>\n",
       "      <td>9.0</td>\n",
       "      <td>[JOURNAL OF HIGHER EDUCATION Vol. XXXV No. 8 N...</td>\n",
       "      <td>2.0</td>\n",
       "      <td>Joe</td>\n",
       "      <td>man</td>\n",
       "      <td>0.01</td>\n",
       "      <td>None</td>\n",
       "    </tr>\n",
       "    <tr>\n",
       "      <th>2</th>\n",
       "      <td>jstor3</td>\n",
       "      <td>Educational Evaluation and Policy Analysis</td>\n",
       "      <td>1988</td>\n",
       "      <td>10</td>\n",
       "      <td>1</td>\n",
       "      <td>research-article</td>\n",
       "      <td>[Colette M. Escobar, W. Steven Barnett, John E...</td>\n",
       "      <td>A Contingent Valuation Approach to Measuring t...</td>\n",
       "      <td>5883</td>\n",
       "      <td>10.0</td>\n",
       "      <td>[Educational Evaluation and Policy Analysis Sp...</td>\n",
       "      <td>3.0</td>\n",
       "      <td>Colette</td>\n",
       "      <td>woman</td>\n",
       "      <td>1.00</td>\n",
       "      <td>None</td>\n",
       "    </tr>\n",
       "    <tr>\n",
       "      <th>3</th>\n",
       "      <td>jstor4</td>\n",
       "      <td>Teaching Sociology</td>\n",
       "      <td>1987</td>\n",
       "      <td>15</td>\n",
       "      <td>2</td>\n",
       "      <td>research-article</td>\n",
       "      <td>[Russell K. Schutt]</td>\n",
       "      <td>Recent Research Methods Texts; Means for Achie...</td>\n",
       "      <td>6652</td>\n",
       "      <td>11.0</td>\n",
       "      <td>[RECENT RESEARCH METHODS TEXTS; MEANS FOR ACHI...</td>\n",
       "      <td>1.0</td>\n",
       "      <td>Russell</td>\n",
       "      <td>man</td>\n",
       "      <td>0.00</td>\n",
       "      <td>None</td>\n",
       "    </tr>\n",
       "    <tr>\n",
       "      <th>4</th>\n",
       "      <td>jstor5</td>\n",
       "      <td>The Reading Teacher</td>\n",
       "      <td>1987</td>\n",
       "      <td>40</td>\n",
       "      <td>8</td>\n",
       "      <td>research-article</td>\n",
       "      <td>[Dick Baroni]</td>\n",
       "      <td>Have Primary Children Draw to Expand Vocabulary</td>\n",
       "      <td>420</td>\n",
       "      <td>2.0</td>\n",
       "      <td>[Have primary children draw to expand vocabula...</td>\n",
       "      <td>1.0</td>\n",
       "      <td>Dick</td>\n",
       "      <td>man</td>\n",
       "      <td>0.00</td>\n",
       "      <td>None</td>\n",
       "    </tr>\n",
       "  </tbody>\n",
       "</table>\n",
       "</div>"
      ],
      "text/plain": [
       "  article_id                                     journal  year volume issue  \\\n",
       "0     jstor1        The Journal of Educational Sociology  1945     18     7   \n",
       "1     jstor2             The Journal of Higher Education  1964     35     8   \n",
       "2     jstor3  Educational Evaluation and Policy Analysis  1988     10     1   \n",
       "3     jstor4                          Teaching Sociology  1987     15     2   \n",
       "4     jstor5                         The Reading Teacher  1987     40     8   \n",
       "\n",
       "               type                                            authors  \\\n",
       "0  research-article                                   [Heman G. Stark]   \n",
       "1  research-article             [Joe H. Munster, Jr., Justin C. Smith]   \n",
       "2  research-article  [Colette M. Escobar, W. Steven Barnett, John E...   \n",
       "3  research-article                                [Russell K. Schutt]   \n",
       "4  research-article                                      [Dick Baroni]   \n",
       "\n",
       "                                               title  nwords  npages  \\\n",
       "0    California's Program for Delinquency Prevention    1242     5.0   \n",
       "1  The University in the Market Place: The Partne...    4341     9.0   \n",
       "2  A Contingent Valuation Approach to Measuring t...    5883    10.0   \n",
       "3  Recent Research Methods Texts; Means for Achie...    6652    11.0   \n",
       "4    Have Primary Children Draw to Expand Vocabulary     420     2.0   \n",
       "\n",
       "                                                text  nauthors auth1_name  \\\n",
       "0  [Part 11. Coordination on the State Level CALI...       1.0      Heman   \n",
       "1  [JOURNAL OF HIGHER EDUCATION Vol. XXXV No. 8 N...       2.0        Joe   \n",
       "2  [Educational Evaluation and Policy Analysis Sp...       3.0    Colette   \n",
       "3  [RECENT RESEARCH METHODS TEXTS; MEANS FOR ACHI...       1.0    Russell   \n",
       "4  [Have primary children draw to expand vocabula...       1.0       Dick   \n",
       "\n",
       "  auth1_gender  auth1_probwom tokens  \n",
       "0          man           0.01   None  \n",
       "1          man           0.01   None  \n",
       "2        woman           1.00   None  \n",
       "3          man           0.00   None  \n",
       "4          man           0.00   None  "
      ]
     },
     "execution_count": 35,
     "metadata": {},
     "output_type": "execute_result"
    }
   ],
   "source": [
    "df.head()"
   ]
  },
  {
   "cell_type": "code",
   "execution_count": 16,
   "id": "4002c52e-443d-4af1-8203-f52462e7b0e3",
   "metadata": {},
   "outputs": [
    {
     "name": "stdout",
     "output_type": "stream",
     "text": [
      "{'Seong': 'man', 'Doran': 'man', 'Huang-Yao': 'man', 'A.G.': 'man', 'Auriel': 'woman', 'Felicitas': 'woman', 'Tinsley': 'woman', 'Sigmund': 'man', 'Doren': 'woman', 'Lilly': 'woman', 'Josée': 'woman', 'Tonni': 'woman', 'Manert': 'woman', 'T.F.': 'woman', 'Natalie': 'woman', 'Ilona': 'woman', 'Gita': 'woman', 'Hsiang-Hui': 'woman', 'KAM': 'man', 'Kamau': 'man', 'Saroj': 'man', 'EVANS': 'man', 'Marjorita': 'woman', 'Shinemin': 'man'}\n"
     ]
    }
   ],
   "source": [
    "print(df.set_index('name')['gender'].to_dict())"
   ]
  },
  {
   "cell_type": "code",
   "execution_count": 30,
   "id": "66d25d2f-09aa-43a8-98ab-817e697a3fb6",
   "metadata": {},
   "outputs": [
    {
     "data": {
      "text/plain": [
       "{'Seong': ['man', 0.15],\n",
       " 'Doran': ['man', 0.12],\n",
       " 'Huang-Yao': ['man', 0.0],\n",
       " 'A.G.': ['man', 0.0],\n",
       " 'Auriel': ['woman', 0.51],\n",
       " 'Felicitas': ['woman', 0.99],\n",
       " 'Tinsley': ['woman', 0.57],\n",
       " 'Sigmund': ['man', 0.0],\n",
       " 'Doren': ['woman', 0.79],\n",
       " 'Lilly': ['woman', 0.99],\n",
       " 'Josée': ['woman', 0.99],\n",
       " 'Tonni': ['woman', 0.71],\n",
       " 'Manert': ['woman', 0.0],\n",
       " 'T.F.': ['woman', 0.0],\n",
       " 'Natalie': ['woman', 1.0],\n",
       " 'Ilona': ['woman', 0.99],\n",
       " 'Gita': ['woman', 0.99],\n",
       " 'Hsiang-Hui': ['woman', 0.0],\n",
       " 'KAM': ['man', 0.24],\n",
       " 'Kamau': ['man', 0.01],\n",
       " 'Saroj': ['man', 0.3299999999999999],\n",
       " 'EVANS': ['man', 0.01],\n",
       " 'Marjorita': ['woman', 1.0],\n",
       " 'Shinemin': ['man', 0.0]}"
      ]
     },
     "execution_count": 30,
     "metadata": {},
     "output_type": "execute_result"
    }
   ],
   "source": [
    "df.set_index('name')[['gender', 'prob_woman']].T.to_dict('list')"
   ]
  },
  {
   "cell_type": "code",
   "execution_count": null,
   "id": "5b7b7b46-a83f-433a-ab1c-41e419fc0a2f",
   "metadata": {},
   "outputs": [],
   "source": []
  }
 ],
 "metadata": {
  "kernelspec": {
   "display_name": "Python 3 (ipykernel)",
   "language": "python",
   "name": "python3"
  },
  "language_info": {
   "codemirror_mode": {
    "name": "ipython",
    "version": 3
   },
   "file_extension": ".py",
   "mimetype": "text/x-python",
   "name": "python",
   "nbconvert_exporter": "python",
   "pygments_lexer": "ipython3",
   "version": "3.8.15"
  }
 },
 "nbformat": 4,
 "nbformat_minor": 5
}
